{
 "cells": [
  {
   "cell_type": "code",
   "execution_count": 1,
   "id": "62275d72",
   "metadata": {},
   "outputs": [],
   "source": [
    "import pandas as pd\n",
    "from sklearn.linear_model import LogisticRegression\n",
    "from sklearn import datasets\n",
    "from sklearn.metrics import accuracy_score\n",
    "from sklearn.model_selection import train_test_split\n",
    "from mlflow.models import infer_signature\n",
    "import mlflow"
   ]
  },
  {
   "cell_type": "markdown",
   "id": "aadbbe53",
   "metadata": {},
   "source": [
    "### Model build-up"
   ]
  },
  {
   "cell_type": "code",
   "execution_count": 2,
   "id": "18415c1c",
   "metadata": {},
   "outputs": [],
   "source": [
    "# data preparation\n",
    "X, y = datasets.load_iris(return_X_y=True)\n",
    "X_train,X_test,y_train,y_test=train_test_split(X,y,test_size=0.20)\n",
    "\n",
    "# Define the model hyperparameters\n",
    "params = {\"penalty\":\"l2\",\"solver\": \"lbfgs\", \"max_iter\": 1000, \"multi_class\": \"auto\", \"random_state\": 8888}\n",
    "\n",
    "def model_training_predict(params):\n",
    "    # build logregression model\n",
    "    lr = LogisticRegression(**params)\n",
    "    # train model\n",
    "    lr.fit(X_train, y_train)\n",
    "    # test model\n",
    "    y_pred = lr.predict(X_test)\n",
    "    # calculate test accuracy\n",
    "    accuracy = accuracy_score(y_test, y_pred)\n",
    "\n",
    "    return lr, y_pred, accuracy"
   ]
  },
  {
   "cell_type": "markdown",
   "id": "17daaa4a",
   "metadata": {},
   "source": [
    "### MLFlow tracking"
   ]
  },
  {
   "cell_type": "code",
   "execution_count": 3,
   "id": "af5e1ac9",
   "metadata": {},
   "outputs": [
    {
     "name": "stderr",
     "output_type": "stream",
     "text": [
      "2025/06/11 03:21:53 INFO mlflow.tracking.fluent: Experiment with name 'iris_expt1' does not exist. Creating a new experiment.\n"
     ]
    },
    {
     "data": {
      "text/plain": [
       "<Experiment: artifact_location='mlflow-artifacts:/163835588279346164', creation_time=1749626513956, experiment_id='163835588279346164', last_update_time=1749626513956, lifecycle_stage='active', name='iris_expt1', tags={}>"
      ]
     },
     "execution_count": 3,
     "metadata": {},
     "output_type": "execute_result"
    }
   ],
   "source": [
    "### MLFLOW tracking\n",
    "mlflow.set_tracking_uri(uri=\"http://127.0.0.1:5000\")     # ensure mlflow ui is running first\n",
    "\n",
    "##create a new MLFLOW experiment\n",
    "mlflow.set_experiment(\"iris_expt1\")"
   ]
  },
  {
   "cell_type": "code",
   "execution_count": 4,
   "id": "6f77471e",
   "metadata": {},
   "outputs": [
    {
     "name": "stderr",
     "output_type": "stream",
     "text": [
      "/home/mchen/miniconda3/envs/mlops/lib/python3.10/site-packages/sklearn/linear_model/_logistic.py:1264: FutureWarning: 'multi_class' was deprecated in version 1.5 and will be removed in 1.7. From then on, it will always use 'multinomial'. Leave it to its default value to avoid this warning.\n",
      "  warnings.warn(\n",
      "2025/06/11 03:21:54 WARNING mlflow.models.model: `artifact_path` is deprecated. Please use `name` instead.\n",
      "Registered model 'iris_project' already exists. Creating a new version of this model...\n",
      "2025/06/11 03:21:55 INFO mlflow.store.model_registry.abstract_store: Waiting up to 300 seconds for model version to finish creation. Model name: iris_project, version 4\n"
     ]
    },
    {
     "name": "stdout",
     "output_type": "stream",
     "text": [
      "🏃 View run monumental-squid-926 at: http://127.0.0.1:5000/#/experiments/163835588279346164/runs/43684ecb2ef9418ba6ccbb1be6cc3cab\n",
      "🧪 View experiment at: http://127.0.0.1:5000/#/experiments/163835588279346164\n"
     ]
    },
    {
     "name": "stderr",
     "output_type": "stream",
     "text": [
      "Created version '4' of model 'iris_project'.\n"
     ]
    }
   ],
   "source": [
    "# 1st run\n",
    "\n",
    "# Start a new MLflow tracking run\n",
    "with mlflow.start_run():\n",
    "\n",
    "    model, y_pred, accuracy = model_training_predict(params)\n",
    "\n",
    "    # Log all hyperparameters used in training\n",
    "    mlflow.log_params(params)\n",
    "\n",
    "    # Log a single metric: accuracy of the model, allows MLflow to track and compare model performance over multiple runs.\n",
    "    mlflow.log_metric(\"accuracy\", accuracy)\n",
    "\n",
    "    # Add a descriptive tag to help identify this run in MLflow UI\n",
    "    mlflow.set_tag(\"run info\", \"1st run for iris project\")\n",
    "\n",
    "    # Infer the model signature (input/output schema),helps MLflow know what kind of input/output is expected, \n",
    "    # Improves reproducibility and compatibility for deployment\n",
    "    signature = infer_signature(X_train, y_pred)\n",
    "\n",
    "    # Log and register the trained scikit-learn model with MLflow\n",
    "    model_info = mlflow.sklearn.log_model(      # Logs and saves a trained Scikit-learn model to MLflow’s tracking system, \n",
    "                                                #   with optional metadata like signatures and registration\n",
    "        sk_model = model,                       # The trained model object\n",
    "        artifact_path = \"iris_model\",           # Folder where the model artifact will be saved  (under mlruns/)\n",
    "        signature = signature,                  # Specifies expected input/output schema for reproducibility\n",
    "        input_example = X_train,                # Provides a sample input for inference documentation and testing\n",
    "        registered_model_name = \"iris_project\"  # Track this model under the name \"iris_project\", and register it with a version number\n",
    "    )"
   ]
  },
  {
   "cell_type": "code",
   "execution_count": 5,
   "id": "deaced41",
   "metadata": {},
   "outputs": [
    {
     "name": "stderr",
     "output_type": "stream",
     "text": [
      "/home/mchen/miniconda3/envs/mlops/lib/python3.10/site-packages/sklearn/linear_model/_logistic.py:1264: FutureWarning: 'multi_class' was deprecated in version 1.5 and will be removed in 1.7. From then on, it will always use 'multinomial'. Leave it to its default value to avoid this warning.\n",
      "  warnings.warn(\n",
      "2025/06/11 03:21:55 WARNING mlflow.models.model: `artifact_path` is deprecated. Please use `name` instead.\n",
      "Registered model 'iris_project' already exists. Creating a new version of this model...\n",
      "2025/06/11 03:21:56 INFO mlflow.store.model_registry.abstract_store: Waiting up to 300 seconds for model version to finish creation. Model name: iris_project, version 5\n"
     ]
    },
    {
     "name": "stdout",
     "output_type": "stream",
     "text": [
      "🏃 View run luxuriant-fly-55 at: http://127.0.0.1:5000/#/experiments/163835588279346164/runs/d4814a3f4d2b4d1d92fd2dc63930917d\n",
      "🧪 View experiment at: http://127.0.0.1:5000/#/experiments/163835588279346164\n"
     ]
    },
    {
     "name": "stderr",
     "output_type": "stream",
     "text": [
      "Created version '5' of model 'iris_project'.\n"
     ]
    }
   ],
   "source": [
    "# 2nd run: change the parameter by taking out penalty\n",
    "\n",
    "with mlflow.start_run():\n",
    "    \n",
    "    params = {\"solver\": \"lbfgs\", \"max_iter\": 1000, \"multi_class\": \"auto\", \"random_state\": 8888}\n",
    "    model, y_pred, accuracy = model_training_predict(params)\n",
    "\n",
    "    # log the parameters\n",
    "    mlflow.log_params(params)\n",
    "\n",
    "    # log the accuracy metrics\n",
    "    mlflow.log_metric(\"accuracy\", accuracy)\n",
    "\n",
    "    # set a tag that we can use to remind what this run was for\n",
    "    mlflow.set_tag(\"run info\", \"1st run for iris project\")\n",
    "\n",
    "    # infer the model signature\n",
    "    signature = infer_signature(X_train, y_pred)\n",
    "\n",
    "    model_info = mlflow.sklearn.log_model(\n",
    "        sk_model = model,\n",
    "        artifact_path = \"iris_model\",\n",
    "        signature = signature,\n",
    "        input_example = X_train,\n",
    "        registered_model_name = \"iris_project\"\n",
    "    )"
   ]
  },
  {
   "cell_type": "markdown",
   "id": "e6f7687e",
   "metadata": {},
   "source": [
    "### MLFlow Validating and Inferencing"
   ]
  },
  {
   "cell_type": "code",
   "execution_count": 6,
   "id": "283d0e55",
   "metadata": {},
   "outputs": [
    {
     "name": "stderr",
     "output_type": "stream",
     "text": [
      "/home/mchen/miniconda3/envs/mlops/lib/python3.10/site-packages/tqdm/auto.py:21: TqdmWarning: IProgress not found. Please update jupyter and ipywidgets. See https://ipywidgets.readthedocs.io/en/stable/user_install.html\n",
      "  from .autonotebook import tqdm as notebook_tqdm\n",
      "Downloading artifacts: 100%|██████████| 7/7 [00:00<00:00, 4861.75it/s]\n"
     ]
    },
    {
     "data": {
      "text/plain": [
       "array([2, 0, 2, 0, 2, 0, 0, 2, 0, 0, 0, 2, 0, 2, 0, 1, 0, 1, 1, 0, 1, 2,\n",
       "       1, 2, 2, 1, 1, 1, 2, 0, 2, 1, 1, 0, 0, 0, 0, 1, 1, 2, 1, 0, 1, 0,\n",
       "       2, 2, 0, 1, 1, 1, 2, 1, 2, 2, 0, 1, 0, 1, 0, 0, 2, 1, 1, 2, 2, 0,\n",
       "       0, 0, 2, 1, 1, 0, 2, 1, 1, 2, 0, 1, 0, 1, 0, 0, 1, 1, 0, 0, 2, 2,\n",
       "       2, 2, 0, 0, 1, 1, 2, 1, 1, 1, 2, 2, 1, 2, 0, 0, 2, 0, 1, 0, 1, 2,\n",
       "       1, 1, 1, 2, 2, 0, 0, 0, 2, 0])"
      ]
     },
     "execution_count": 6,
     "metadata": {},
     "output_type": "execute_result"
    }
   ],
   "source": [
    "# Approach 1: load model with model_uri\n",
    "import mlflow\n",
    "from mlflow.models import Model\n",
    "\n",
    "# since model_info was created, us this line can also return the path where model was saved.\n",
    "model_uri = model_info.model_uri\n",
    "\n",
    "# The model is logged with an input example\n",
    "pyfunc_model = mlflow.pyfunc.load_model(model_uri)\n",
    "input_data = pyfunc_model.input_example\n",
    "\n",
    "pyfunc_model.predict(input_data)"
   ]
  },
  {
   "cell_type": "code",
   "execution_count": 7,
   "id": "5a6cf9b1",
   "metadata": {},
   "outputs": [
    {
     "name": "stderr",
     "output_type": "stream",
     "text": [
      "Downloading artifacts: 100%|██████████| 7/7 [00:00<00:00, 470.78it/s]\n"
     ]
    },
    {
     "data": {
      "text/plain": [
       "array([0, 1, 0, 2, 2, 2, 0, 2, 2, 2, 1, 1, 1, 0, 2, 0, 1, 1, 2, 2, 1, 1,\n",
       "       1, 1, 2, 2, 2, 0, 0, 1])"
      ]
     },
     "execution_count": 7,
     "metadata": {},
     "output_type": "execute_result"
    }
   ],
   "source": [
    "# Approach 2: load model from model repository\n",
    "model_name = \"iris_project\"     # use the registered_model_name\n",
    "model_version = \"2\"             # If you have multiple versions registered (e.g., v1, v2...), just change for \"1\", \"2\", or \"3\", \n",
    "                                # Value \"latest\" will load the latest version.\n",
    "model_path = f'models:/{model_name}/{model_version}'\n",
    "load_model = mlflow.sklearn.load_model(model_path)     # load with mlflow.sklearn, instead of mlflow.pyfunc\n",
    "load_model.predict(X_test)"
   ]
  },
  {
   "cell_type": "code",
   "execution_count": 8,
   "id": "3f144b83",
   "metadata": {},
   "outputs": [
    {
     "name": "stderr",
     "output_type": "stream",
     "text": [
      "/home/mchen/miniconda3/envs/mlops/lib/python3.10/site-packages/sklearn/linear_model/_logistic.py:1264: FutureWarning: 'multi_class' was deprecated in version 1.5 and will be removed in 1.7. From then on, it will always use 'multinomial'. Leave it to its default value to avoid this warning.\n",
      "  warnings.warn(\n",
      "/home/mchen/miniconda3/envs/mlops/lib/python3.10/site-packages/sklearn/linear_model/_sag.py:348: ConvergenceWarning: The max_iter was reached which means the coef_ did not converge\n",
      "  warnings.warn(\n",
      "2025/06/11 03:21:56 WARNING mlflow.models.model: `artifact_path` is deprecated. Please use `name` instead.\n"
     ]
    },
    {
     "name": "stdout",
     "output_type": "stream",
     "text": [
      "🏃 View run defiant-bear-408 at: http://127.0.0.1:5000/#/experiments/163835588279346164/runs/a65365a25d714cdfbdfca76bc80c5169\n",
      "🧪 View experiment at: http://127.0.0.1:5000/#/experiments/163835588279346164\n"
     ]
    }
   ],
   "source": [
    "#run 3:  change solver to \"sag\", do not reisgter model in codes\n",
    "\n",
    "with mlflow.start_run():\n",
    "    \n",
    "    params = {\"solver\": \"sag\", \"max_iter\": 1000, \"multi_class\": \"auto\", \"random_state\": 8888}\n",
    "    model, y_pred, accuracy = model_training_predict(params)\n",
    "\n",
    "    mlflow.log_params(params)\n",
    "\n",
    "    mlflow.log_metric(\"accuracy\", accuracy)\n",
    "\n",
    "    mlflow.set_tag(\"run info\", \"1st run for iris project\")\n",
    "\n",
    "    signature = infer_signature(X_train, y_pred)\n",
    "\n",
    "    model_info = mlflow.sklearn.log_model(\n",
    "        sk_model = model,\n",
    "        artifact_path = \"iris_model\",\n",
    "        signature = signature,\n",
    "        input_example = X_train,\n",
    "    )"
   ]
  }
 ],
 "metadata": {
  "kernelspec": {
   "display_name": "mlops",
   "language": "python",
   "name": "python3"
  },
  "language_info": {
   "codemirror_mode": {
    "name": "ipython",
    "version": 3
   },
   "file_extension": ".py",
   "mimetype": "text/x-python",
   "name": "python",
   "nbconvert_exporter": "python",
   "pygments_lexer": "ipython3",
   "version": "3.10.16"
  }
 },
 "nbformat": 4,
 "nbformat_minor": 5
}
